{
 "cells": [
  {
   "cell_type": "code",
   "execution_count": null,
   "id": "collected-philosophy",
   "metadata": {},
   "outputs": [],
   "source": []
  },
  {
   "cell_type": "markdown",
   "id": "assured-yukon",
   "metadata": {},
   "source": [
    "### Importing ipnb modules \n",
    "[Reference](https://jupyter-notebook.readthedocs.io/en/5.7.6/examples/Notebook/Importing%20Notebooks.html)"
   ]
  },
  {
   "cell_type": "code",
   "execution_count": null,
   "id": "recorded-supplement",
   "metadata": {},
   "outputs": [],
   "source": []
  },
  {
   "cell_type": "markdown",
   "id": "southeast-james",
   "metadata": {},
   "source": [
    "### Trying to import Intel_Camera class"
   ]
  },
  {
   "cell_type": "code",
   "execution_count": 16,
   "id": "olive-biotechnology",
   "metadata": {},
   "outputs": [
    {
     "ename": "NameError",
     "evalue": "name 'pipeline' is not defined",
     "output_type": "error",
     "traceback": [
      "\u001b[1;31m---------------------------------------------------------------------------\u001b[0m",
      "\u001b[1;31mNameError\u001b[0m                                 Traceback (most recent call last)",
      "\u001b[1;32m<ipython-input-16-d6552d536b90>\u001b[0m in \u001b[0;36m<module>\u001b[1;34m\u001b[0m\n\u001b[0;32m      4\u001b[0m \u001b[1;32mfrom\u001b[0m \u001b[0mDepth_Camera\u001b[0m \u001b[1;32mimport\u001b[0m \u001b[1;33m*\u001b[0m\u001b[1;33m\u001b[0m\u001b[1;33m\u001b[0m\u001b[0m\n\u001b[0;32m      5\u001b[0m \u001b[1;33m\u001b[0m\u001b[0m\n\u001b[1;32m----> 6\u001b[1;33m \u001b[0mCamera\u001b[0m \u001b[1;33m=\u001b[0m \u001b[0mIntel_Camera\u001b[0m\u001b[1;33m(\u001b[0m\u001b[1;33m)\u001b[0m\u001b[1;33m\u001b[0m\u001b[1;33m\u001b[0m\u001b[0m\n\u001b[0m\u001b[0;32m      7\u001b[0m \u001b[1;33m\u001b[0m\u001b[0m\n\u001b[0;32m      8\u001b[0m \u001b[1;32mwhile\u001b[0m \u001b[1;32mTrue\u001b[0m\u001b[1;33m:\u001b[0m\u001b[1;33m\u001b[0m\u001b[1;33m\u001b[0m\u001b[0m\n",
      "\u001b[1;32m~\\GithubFiles\\Robothon-Box-Localization\\Depth_Camera.py\u001b[0m in \u001b[0;36m__init__\u001b[1;34m(self)\u001b[0m\n\u001b[0;32m     13\u001b[0m \u001b[1;33m\u001b[0m\u001b[0m\n\u001b[0;32m     14\u001b[0m         \u001b[1;31m# Get device product line for setting a supporting resolution\u001b[0m\u001b[1;33m\u001b[0m\u001b[1;33m\u001b[0m\u001b[1;33m\u001b[0m\u001b[0m\n\u001b[1;32m---> 15\u001b[1;33m         \u001b[0mpipeline_wrapper\u001b[0m \u001b[1;33m=\u001b[0m \u001b[0mrs\u001b[0m\u001b[1;33m.\u001b[0m\u001b[0mpipeline_wrapper\u001b[0m\u001b[1;33m(\u001b[0m\u001b[0mself\u001b[0m\u001b[1;33m.\u001b[0m\u001b[0mpipeline\u001b[0m\u001b[1;33m)\u001b[0m\u001b[1;33m\u001b[0m\u001b[1;33m\u001b[0m\u001b[0m\n\u001b[0m\u001b[0;32m     16\u001b[0m         \u001b[0mpipeline_profile\u001b[0m \u001b[1;33m=\u001b[0m \u001b[0mconfig\u001b[0m\u001b[1;33m.\u001b[0m\u001b[0mresolve\u001b[0m\u001b[1;33m(\u001b[0m\u001b[0mpipeline_wrapper\u001b[0m\u001b[1;33m)\u001b[0m\u001b[1;33m\u001b[0m\u001b[1;33m\u001b[0m\u001b[0m\n\u001b[0;32m     17\u001b[0m         \u001b[0mdevice\u001b[0m \u001b[1;33m=\u001b[0m \u001b[0mpipeline_profile\u001b[0m\u001b[1;33m.\u001b[0m\u001b[0mget_device\u001b[0m\u001b[1;33m(\u001b[0m\u001b[1;33m)\u001b[0m\u001b[1;33m\u001b[0m\u001b[1;33m\u001b[0m\u001b[0m\n",
      "\u001b[1;31mNameError\u001b[0m: name 'pipeline' is not defined"
     ]
    }
   ],
   "source": [
    "import cv2\n",
    "import pyrealsense2\n",
    "import numpy\n",
    "from Depth_Camera import *\n",
    "\n",
    "Camera = Intel_Camera()\n",
    "\n",
    "while True:\n",
    "    \n",
    "    ret, color_image, depth_image = Camera.get_frame()\n",
    "    \n",
    "    Camera.display_color()\n",
    "    key = cv2.waitKey(1)\n",
    "    if key == 27 :\n",
    "        break\n",
    "    \n",
    "cv2.destroyAllWindows()"
   ]
  },
  {
   "cell_type": "markdown",
   "id": "valued-weekend",
   "metadata": {},
   "source": [
    "### Finding Camera Matrix and Undistort the Image"
   ]
  },
  {
   "cell_type": "markdown",
   "id": "adverse-trader",
   "metadata": {},
   "source": [
    "### Camera Calibration Code"
   ]
  },
  {
   "cell_type": "code",
   "execution_count": 3,
   "id": "large-lover",
   "metadata": {},
   "outputs": [],
   "source": [
    "import numpy as np\n",
    "import cv2 as cv\n",
    "import glob\n",
    "\n",
    "c_b_size = (7,7)\n",
    "f_size = (640, 480)\n",
    "\n",
    "# termination criteria\n",
    "criteria = (cv.TERM_CRITERIA_EPS + cv.TERM_CRITERIA_MAX_ITER, 30, 0.001)\n",
    "# prepare object points, like (0,0,0), (1,0,0), (2,0,0) ....,(6,5,0)\n",
    "objp = np.zeros((7*7,3), np.float32)\n",
    "objp[:,:2] = np.mgrid[0:7,0:7].T.reshape(-1,2)\n",
    "# Arrays to store object points and image points from all the images.\n",
    "objpoints = [] # 3d point in real world space\n",
    "imgpoints = [] # 2d points in image plane.\n",
    "images = glob.glob('ChessBoard_Images/*.png')\n",
    "for fname in images:\n",
    "    img = cv.imread(fname)\n",
    "    gray = cv.cvtColor(img, cv.COLOR_BGR2GRAY)\n",
    "    # Find the chess board corners\n",
    "    ret, corners = cv.findChessboardCorners(gray, (7,7), None)\n",
    "    # If found, add object points, image points (after refining them)\n",
    "    if ret == True:\n",
    "        objpoints.append(objp)\n",
    "        corners2 = cv.cornerSubPix(gray,corners, (11,11), (-1,-1), criteria)\n",
    "        imgpoints.append(corners)\n",
    "        # Draw and display the corners\n",
    "        cv.drawChessboardCorners(img, (7,7), corners2, ret)\n",
    "        cv.imshow('img', img)\n",
    "        cv.waitKey(1000)\n",
    "cv.destroyAllWindows()"
   ]
  },
  {
   "cell_type": "code",
   "execution_count": null,
   "id": "coated-regression",
   "metadata": {},
   "outputs": [],
   "source": []
  },
  {
   "cell_type": "code",
   "execution_count": 4,
   "id": "blessed-circle",
   "metadata": {},
   "outputs": [
    {
     "name": "stdout",
     "output_type": "stream",
     "text": [
      "camera calibrated.. 0.8913908873117655\n",
      "camera matrix.. [[690.97457492   0.         262.00835783]\n",
      " [  0.         682.10152039 120.99718316]\n",
      " [  0.           0.           1.        ]]\n",
      "distortion matrix.. [[ 0.10738262 -0.10114713 -0.02326269 -0.02865453  1.02581243]]\n",
      "rotational matrix.. [array([[ 0.12928731],\n",
      "       [ 0.10271365],\n",
      "       [-0.04458024]]), array([[-0.69511126],\n",
      "       [ 0.88018885],\n",
      "       [ 1.23696493]]), array([[0.02745709],\n",
      "       [1.02490717],\n",
      "       [2.91544872]]), array([[0.16698762],\n",
      "       [0.21065206],\n",
      "       [0.39433578]]), array([[ 0.00723353],\n",
      "       [-0.1359041 ],\n",
      "       [ 0.80558034]]), array([[ 0.04940401],\n",
      "       [-0.11509751],\n",
      "       [ 0.68748024]]), array([[-0.23119096],\n",
      "       [ 0.03328794],\n",
      "       [ 1.57686371]]), array([[ 0.0443523 ],\n",
      "       [-0.0623234 ],\n",
      "       [ 1.20667488]]), array([[-0.10239334],\n",
      "       [-0.13244462],\n",
      "       [-0.05343936]]), array([[-0.42657122],\n",
      "       [ 0.77305992],\n",
      "       [ 0.87402522]]), array([[0.18899463],\n",
      "       [0.27701229],\n",
      "       [1.1771946 ]]), array([[-0.12948393],\n",
      "       [-0.07876293],\n",
      "       [ 0.44165206]])]\n",
      "translational matrix.. [array([[ 2.72613491],\n",
      "       [ 4.7158609 ],\n",
      "       [27.88482714]]), array([[ 5.39397781],\n",
      "       [ 3.58108271],\n",
      "       [24.91098834]]), array([[ 5.10449231],\n",
      "       [ 5.80899178],\n",
      "       [16.17389203]]), array([[ 1.85783537],\n",
      "       [ 1.59775147],\n",
      "       [27.84438667]]), array([[ 2.96165115],\n",
      "       [ 0.98449996],\n",
      "       [27.71114448]]), array([[ 8.64982371],\n",
      "       [ 0.60844496],\n",
      "       [27.03258014]]), array([[ 7.80458557],\n",
      "       [ 4.64164759],\n",
      "       [29.27880068]]), array([[ 0.1976823 ],\n",
      "       [ 4.88756003],\n",
      "       [28.37607671]]), array([[ 0.5945016 ],\n",
      "       [ 1.80920047],\n",
      "       [26.11495789]]), array([[4.68418416e+00],\n",
      "       [2.60132173e-02],\n",
      "       [2.71342888e+01]]), array([[ 2.03611126],\n",
      "       [ 2.32755104],\n",
      "       [25.25184002]]), array([[ 5.15770157],\n",
      "       [ 0.14781278],\n",
      "       [26.63238327]])]\n"
     ]
    }
   ],
   "source": [
    "ret, cam_mtx, dist, rvecs, tvecs = cv.calibrateCamera(objpoints, imgpoints, f_size, None, None)\n",
    "\n",
    "print(\"camera calibrated..\", ret)\n",
    "print(\"camera matrix..\", cam_mtx)\n",
    "print(\"distortion matrix..\", dist)\n",
    "print(\"rotational matrix..\", rvecs)\n",
    "print(\"translational matrix..\", tvecs)"
   ]
  },
  {
   "cell_type": "code",
   "execution_count": null,
   "id": "dated-opera",
   "metadata": {},
   "outputs": [],
   "source": []
  },
  {
   "cell_type": "code",
   "execution_count": null,
   "id": "stainless-prisoner",
   "metadata": {},
   "outputs": [],
   "source": [
    "img = cv.imread('filename1.jpg')\n",
    "h,  w = img.shape[:2]\n",
    "newcameramtx, roi = cv.getOptimalNewCameraMatrix(cam_mtx, dist, (w,h), 1, (w,h))"
   ]
  },
  {
   "cell_type": "markdown",
   "id": "casual-weapon",
   "metadata": {},
   "source": [
    "### Undistort using undistort() method"
   ]
  },
  {
   "cell_type": "code",
   "execution_count": null,
   "id": "strong-april",
   "metadata": {},
   "outputs": [],
   "source": [
    "# undistort\n",
    "dst = cv.undistort(img, cam_mtx, dist, None, newcameramtx)\n",
    "# crop the image\n",
    "x, y, w, h = roi\n",
    "dst = dst[y:y+h, x:x+w]\n",
    "cv.imwrite('calibresult1.png', dst)"
   ]
  },
  {
   "cell_type": "markdown",
   "id": "animal-nancy",
   "metadata": {},
   "source": [
    "### Undistort using Remapping"
   ]
  },
  {
   "cell_type": "code",
   "execution_count": 2,
   "id": "described-spine",
   "metadata": {},
   "outputs": [
    {
     "ename": "NameError",
     "evalue": "name 'cv' is not defined",
     "output_type": "error",
     "traceback": [
      "\u001b[1;31m---------------------------------------------------------------------------\u001b[0m",
      "\u001b[1;31mNameError\u001b[0m                                 Traceback (most recent call last)",
      "\u001b[1;32m<ipython-input-2-c7693d15692a>\u001b[0m in \u001b[0;36m<module>\u001b[1;34m\u001b[0m\n\u001b[0;32m      1\u001b[0m \u001b[1;31m# undistort\u001b[0m\u001b[1;33m\u001b[0m\u001b[1;33m\u001b[0m\u001b[1;33m\u001b[0m\u001b[0m\n\u001b[1;32m----> 2\u001b[1;33m \u001b[0mmapx\u001b[0m\u001b[1;33m,\u001b[0m \u001b[0mmapy\u001b[0m \u001b[1;33m=\u001b[0m \u001b[0mcv\u001b[0m\u001b[1;33m.\u001b[0m\u001b[0minitUndistortRectifyMap\u001b[0m\u001b[1;33m(\u001b[0m\u001b[0mcam_mtx\u001b[0m\u001b[1;33m,\u001b[0m \u001b[0mdist\u001b[0m\u001b[1;33m,\u001b[0m \u001b[1;32mNone\u001b[0m\u001b[1;33m,\u001b[0m \u001b[0mnewcameramtx\u001b[0m\u001b[1;33m,\u001b[0m \u001b[1;33m(\u001b[0m\u001b[0mw\u001b[0m\u001b[1;33m,\u001b[0m\u001b[0mh\u001b[0m\u001b[1;33m)\u001b[0m\u001b[1;33m,\u001b[0m \u001b[1;36m5\u001b[0m\u001b[1;33m)\u001b[0m\u001b[1;33m\u001b[0m\u001b[1;33m\u001b[0m\u001b[0m\n\u001b[0m\u001b[0;32m      3\u001b[0m \u001b[0mdst\u001b[0m \u001b[1;33m=\u001b[0m \u001b[0mcv\u001b[0m\u001b[1;33m.\u001b[0m\u001b[0mremap\u001b[0m\u001b[1;33m(\u001b[0m\u001b[0mimg\u001b[0m\u001b[1;33m,\u001b[0m \u001b[0mmapx\u001b[0m\u001b[1;33m,\u001b[0m \u001b[0mmapy\u001b[0m\u001b[1;33m,\u001b[0m \u001b[0mcv\u001b[0m\u001b[1;33m.\u001b[0m\u001b[0mINTER_LINEAR\u001b[0m\u001b[1;33m)\u001b[0m\u001b[1;33m\u001b[0m\u001b[1;33m\u001b[0m\u001b[0m\n\u001b[0;32m      4\u001b[0m \u001b[1;31m# crop the image\u001b[0m\u001b[1;33m\u001b[0m\u001b[1;33m\u001b[0m\u001b[1;33m\u001b[0m\u001b[0m\n\u001b[0;32m      5\u001b[0m \u001b[0mx\u001b[0m\u001b[1;33m,\u001b[0m \u001b[0my\u001b[0m\u001b[1;33m,\u001b[0m \u001b[0mw\u001b[0m\u001b[1;33m,\u001b[0m \u001b[0mh\u001b[0m \u001b[1;33m=\u001b[0m \u001b[0mroi\u001b[0m\u001b[1;33m\u001b[0m\u001b[1;33m\u001b[0m\u001b[0m\n",
      "\u001b[1;31mNameError\u001b[0m: name 'cv' is not defined"
     ]
    }
   ],
   "source": [
    "# undistort\n",
    "mapx, mapy = cv.initUndistortRectifyMap(cam_mtx, dist, None, newcameramtx, (w,h), 5)\n",
    "dst = cv.remap(img, mapx, mapy, cv.INTER_LINEAR)\n",
    "# crop the image\n",
    "x, y, w, h = roi\n",
    "dst = dst[y:y+h, x:x+w]\n",
    "cv.imwrite('calibresult2.png', dst)"
   ]
  },
  {
   "cell_type": "markdown",
   "id": "representative-convert",
   "metadata": {},
   "source": [
    "### Re-projection Error"
   ]
  },
  {
   "cell_type": "code",
   "execution_count": null,
   "id": "innocent-illness",
   "metadata": {},
   "outputs": [],
   "source": [
    "mean_error = 0\n",
    "for i in range(len(objpoints)):\n",
    "    imgpoints2, _ = cv.projectPoints(objpoints[i], rvecs[i], tvecs[i], cam_mtx, dist)\n",
    "    error = cv.norm(imgpoints[i], imgpoints2, cv.NORM_L2)/len(imgpoints2)\n",
    "    mean_error += error\n",
    "print( \"total error: {}\".format(mean_error/len(objpoints)) )"
   ]
  },
  {
   "cell_type": "code",
   "execution_count": null,
   "id": "ethical-excess",
   "metadata": {},
   "outputs": [],
   "source": []
  }
 ],
 "metadata": {
  "kernelspec": {
   "display_name": "Python 3",
   "language": "python",
   "name": "python3"
  },
  "language_info": {
   "codemirror_mode": {
    "name": "ipython",
    "version": 3
   },
   "file_extension": ".py",
   "mimetype": "text/x-python",
   "name": "python",
   "nbconvert_exporter": "python",
   "pygments_lexer": "ipython3",
   "version": "3.9.2"
  }
 },
 "nbformat": 4,
 "nbformat_minor": 5
}
