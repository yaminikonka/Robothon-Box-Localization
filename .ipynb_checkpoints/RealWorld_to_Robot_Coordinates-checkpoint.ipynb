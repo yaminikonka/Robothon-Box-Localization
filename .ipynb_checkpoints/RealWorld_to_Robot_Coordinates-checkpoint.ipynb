{
 "cells": [
  {
   "cell_type": "markdown",
   "id": "static-affairs",
   "metadata": {},
   "source": [
    "##  Conversion from Camera to Real World to Robot Coordinates "
   ]
  },
  {
   "cell_type": "markdown",
   "id": "outer-crawford",
   "metadata": {},
   "source": [
    "In this method we are converting camera to real world conversion"
   ]
  },
  {
   "cell_type": "code",
   "execution_count": null,
   "id": "wanted-burns",
   "metadata": {},
   "outputs": [],
   "source": [
    "def pixel_to_mm(X_pixel, Y_pixel):\n",
    "    \"\"\"Given x and y coordinates in pixel from image, \n",
    "    compute the x and y coordinates in mm (to real world)\"\"\"\n",
    "    \n",
    "    # finding the conversion factors in x and y \n",
    "    X_pixel_to_mm = 476.0/640.0\n",
    "    Y_pixel_to_mm = 363.0/480.0\n",
    "    \n",
    "    # changing camera coordinates to real world coordinates\n",
    "    X_real = X_pixel*X_pixel_to_mm\n",
    "    Y_real = -Y_pixel*Y_pixel_to_mm\n",
    "    \n",
    "    return [X_real, Y_real]"
   ]
  },
  {
   "cell_type": "code",
   "execution_count": null,
   "id": "amateur-british",
   "metadata": {},
   "outputs": [],
   "source": []
  },
  {
   "cell_type": "markdown",
   "id": "weird-detail",
   "metadata": {},
   "source": [
    "For performing pick and place task we need to convert our object coordinates to robot coordinates, for that the following method will be implemented for ease of use in our later algo..\n"
   ]
  },
  {
   "cell_type": "code",
   "execution_count": null,
   "id": "suspended-newton",
   "metadata": {},
   "outputs": [],
   "source": [
    "def world_to_robot_coordinates(X_real,Y_real,theta):\n",
    "\"\"\"Conveting into world coordinates to robot coordinates\n",
    "   angle variation from y_location\n",
    "   --------------------------------\n",
    "   theta = rotation angle\n",
    "   X_real = x coordinate in mm\n",
    "   Y_real = y coordinate in mm\"\"\"\n",
    "    \n",
    "    rad = (theta / 180) * np.pi\n",
    "    rot = [[np.cos(rad), -np.sin(rad), 0], [np.sin(rad), np.cos(rad),0], [0, 0, 1]]\n",
    "    ds = [[260], [178.5], [0]]\n",
    "    H = np.concatenate((rot, ds), 1)\n",
    "    H = np.concatenate((H, [[0, 0, 0, 1]]), 0)\n",
    "    Camera_Coordinates = [[X_real], [Y_real], [0],[1]]\n",
    "    Robot_Coordinates= np.dot(H, Camera_Coordinates)\n",
    "    Xr = Robot_Coordinates[0] \n",
    "    Yr = Robot_Coordinates[1] \n",
    "\n",
    "    robot_x_location = round(float(Xr), 1)\n",
    "    robot_y_location = round(float(Yr),1)\n",
    "    \n",
    "    return [robot_x_location, robot_y_location]"
   ]
  },
  {
   "cell_type": "code",
   "execution_count": null,
   "id": "sacred-montreal",
   "metadata": {},
   "outputs": [],
   "source": []
  },
  {
   "cell_type": "code",
   "execution_count": null,
   "id": "responsible-respect",
   "metadata": {},
   "outputs": [],
   "source": []
  },
  {
   "cell_type": "code",
   "execution_count": null,
   "id": "super-distributor",
   "metadata": {},
   "outputs": [],
   "source": []
  }
 ],
 "metadata": {
  "kernelspec": {
   "display_name": "Python 3",
   "language": "python",
   "name": "python3"
  },
  "language_info": {
   "codemirror_mode": {
    "name": "ipython",
    "version": 3
   },
   "file_extension": ".py",
   "mimetype": "text/x-python",
   "name": "python",
   "nbconvert_exporter": "python",
   "pygments_lexer": "ipython3",
   "version": "3.9.2"
  }
 },
 "nbformat": 4,
 "nbformat_minor": 5
}
